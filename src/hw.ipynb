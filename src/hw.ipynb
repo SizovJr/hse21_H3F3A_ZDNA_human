{
 "cells": [
  {
   "cell_type": "code",
   "execution_count": 2,
   "id": "a276cf75",
   "metadata": {},
   "outputs": [],
   "source": [
    "import pandas as pd\n",
    "import matplotlib.pyplot as plt"
   ]
  },
  {
   "cell_type": "code",
   "execution_count": 3,
   "id": "3d7ef1b5",
   "metadata": {},
   "outputs": [],
   "source": [
    "data1 = pd.read_csv(f\"../data/H3F3A_DOHH2.ENCFF312QGG.hg19.bed\", header=None, sep=\"\\t\")"
   ]
  },
  {
   "cell_type": "code",
   "execution_count": 4,
   "id": "d099639a",
   "metadata": {},
   "outputs": [],
   "source": [
    "data2 = pd.read_csv(f\"../data/H3F3A_DOHH2.ENCFF669TOV.hg19.bed\", header=None, sep=\"\\t\")"
   ]
  },
  {
   "cell_type": "code",
   "execution_count": 5,
   "id": "475ee7cc",
   "metadata": {},
   "outputs": [
    {
     "data": {
      "text/html": [
       "<div>\n",
       "<style scoped>\n",
       "    .dataframe tbody tr th:only-of-type {\n",
       "        vertical-align: middle;\n",
       "    }\n",
       "\n",
       "    .dataframe tbody tr th {\n",
       "        vertical-align: top;\n",
       "    }\n",
       "\n",
       "    .dataframe thead th {\n",
       "        text-align: right;\n",
       "    }\n",
       "</style>\n",
       "<table border=\"1\" class=\"dataframe\">\n",
       "  <thead>\n",
       "    <tr style=\"text-align: right;\">\n",
       "      <th></th>\n",
       "      <th>0</th>\n",
       "      <th>1</th>\n",
       "      <th>2</th>\n",
       "      <th>3</th>\n",
       "      <th>4</th>\n",
       "    </tr>\n",
       "  </thead>\n",
       "  <tbody>\n",
       "    <tr>\n",
       "      <th>0</th>\n",
       "      <td>chr7</td>\n",
       "      <td>5566985</td>\n",
       "      <td>5569341</td>\n",
       "      <td>Peak_1</td>\n",
       "      <td>1000</td>\n",
       "    </tr>\n",
       "    <tr>\n",
       "      <th>1</th>\n",
       "      <td>chr12</td>\n",
       "      <td>67010925</td>\n",
       "      <td>67012021</td>\n",
       "      <td>Peak_2</td>\n",
       "      <td>972</td>\n",
       "    </tr>\n",
       "    <tr>\n",
       "      <th>2</th>\n",
       "      <td>chr7</td>\n",
       "      <td>36229975</td>\n",
       "      <td>36231660</td>\n",
       "      <td>Peak_3</td>\n",
       "      <td>937</td>\n",
       "    </tr>\n",
       "    <tr>\n",
       "      <th>3</th>\n",
       "      <td>chr2</td>\n",
       "      <td>134568009</td>\n",
       "      <td>134570572</td>\n",
       "      <td>Peak_4</td>\n",
       "      <td>876</td>\n",
       "    </tr>\n",
       "    <tr>\n",
       "      <th>4</th>\n",
       "      <td>chr6</td>\n",
       "      <td>30690611</td>\n",
       "      <td>30691267</td>\n",
       "      <td>Peak_5</td>\n",
       "      <td>861</td>\n",
       "    </tr>\n",
       "    <tr>\n",
       "      <th>...</th>\n",
       "      <td>...</td>\n",
       "      <td>...</td>\n",
       "      <td>...</td>\n",
       "      <td>...</td>\n",
       "      <td>...</td>\n",
       "    </tr>\n",
       "    <tr>\n",
       "      <th>109573</th>\n",
       "      <td>chr7</td>\n",
       "      <td>102951537</td>\n",
       "      <td>102951789</td>\n",
       "      <td>Peak_109574</td>\n",
       "      <td>10</td>\n",
       "    </tr>\n",
       "    <tr>\n",
       "      <th>109574</th>\n",
       "      <td>chr7</td>\n",
       "      <td>106722000</td>\n",
       "      <td>106722261</td>\n",
       "      <td>Peak_109575</td>\n",
       "      <td>10</td>\n",
       "    </tr>\n",
       "    <tr>\n",
       "      <th>109575</th>\n",
       "      <td>chr7</td>\n",
       "      <td>148512273</td>\n",
       "      <td>148512596</td>\n",
       "      <td>Peak_109576</td>\n",
       "      <td>10</td>\n",
       "    </tr>\n",
       "    <tr>\n",
       "      <th>109576</th>\n",
       "      <td>chr7</td>\n",
       "      <td>148527586</td>\n",
       "      <td>148527807</td>\n",
       "      <td>Peak_109577</td>\n",
       "      <td>10</td>\n",
       "    </tr>\n",
       "    <tr>\n",
       "      <th>109577</th>\n",
       "      <td>chr8</td>\n",
       "      <td>27236706</td>\n",
       "      <td>27237064</td>\n",
       "      <td>Peak_109578</td>\n",
       "      <td>10</td>\n",
       "    </tr>\n",
       "  </tbody>\n",
       "</table>\n",
       "<p>109578 rows × 5 columns</p>\n",
       "</div>"
      ],
      "text/plain": [
       "            0          1          2            3     4\n",
       "0        chr7    5566985    5569341       Peak_1  1000\n",
       "1       chr12   67010925   67012021       Peak_2   972\n",
       "2        chr7   36229975   36231660       Peak_3   937\n",
       "3        chr2  134568009  134570572       Peak_4   876\n",
       "4        chr6   30690611   30691267       Peak_5   861\n",
       "...       ...        ...        ...          ...   ...\n",
       "109573   chr7  102951537  102951789  Peak_109574    10\n",
       "109574   chr7  106722000  106722261  Peak_109575    10\n",
       "109575   chr7  148512273  148512596  Peak_109576    10\n",
       "109576   chr7  148527586  148527807  Peak_109577    10\n",
       "109577   chr8   27236706   27237064  Peak_109578    10\n",
       "\n",
       "[109578 rows x 5 columns]"
      ]
     },
     "execution_count": 5,
     "metadata": {},
     "output_type": "execute_result"
    }
   ],
   "source": [
    "data1"
   ]
  },
  {
   "cell_type": "code",
   "execution_count": 7,
   "id": "f68d0fc9",
   "metadata": {},
   "outputs": [],
   "source": [
    "ln1 = data1[2] - data1[1]"
   ]
  },
  {
   "cell_type": "code",
   "execution_count": 9,
   "id": "ddaa7762",
   "metadata": {},
   "outputs": [],
   "source": [
    "ln2 = data2[2] - data2[1]"
   ]
  },
  {
   "cell_type": "code",
   "execution_count": 25,
   "id": "b25d1691",
   "metadata": {},
   "outputs": [
    {
     "data": {
      "image/png": "[encoded data removed]",
      "text/plain": [
       "<Figure size 1080x360 with 2 Axes>"
      ]
     },
     "metadata": {
      "needs_background": "light"
     },
     "output_type": "display_data"
    }
   ],
   "source": [
    "plt.figure(figsize=(15, 5))\n",
    "\n",
    "plt.subplot(1, 2, 1)\n",
    "plt.hist(ln1, color='black', bins=50)\n",
    "plt.xlabel(\"Длина\")\n",
    "plt.ylabel(\"Количество\")\n",
    "plt.title(f\"Пиков: {len(ln1)}\")\n",
    "\n",
    "\n",
    "plt.subplot(1, 2, 2)\n",
    "plt.hist(ln2, color='blue', bins=50)\n",
    "plt.xlabel(\"Длина\")\n",
    "plt.ylabel(\"Количество\")\n",
    "plt.title(f\"Пиков: {len(ln2)}\")\n",
    "\n",
    "plt.savefig(\"../images/len_before.png\", format=\"png\")\n",
    "\n",
    "plt.show()"
   ]
  },
  {
   "cell_type": "code",
   "execution_count": 33,
   "id": "dba7d1fc",
   "metadata": {},
   "outputs": [
    {
     "data": {
      "image/png": "[encoded data removed]",
      "text/plain": [
       "<Figure size 1080x360 with 2 Axes>"
      ]
     },
     "metadata": {
      "needs_background": "light"
     },
     "output_type": "display_data"
    }
   ],
   "source": [
    "filter_c = 2300\n",
    "\n",
    "new_ln1 = ln1[ln1 < filter_c]\n",
    "new_ln2 = ln2[ln2 < filter_c]\n",
    "\n",
    "d1 = (ln1 < filter_c).sum()\n",
    "d2 = (ln2 < filter_c).sum()\n",
    "\n",
    "plt.figure(figsize=(15, 5))\n",
    "\n",
    "plt.subplot(1, 2, 1)\n",
    "plt.hist(new_ln1, color='black', bins=50)\n",
    "plt.xlabel(\"Длина\")\n",
    "plt.ylabel(\"Количество\")\n",
    "plt.title(f\"Пиков: {d1}\")\n",
    "\n",
    "\n",
    "plt.subplot(1, 2, 2)\n",
    "plt.hist(new_ln2, color='blue', bins=50)\n",
    "plt.xlabel(\"Длина\")\n",
    "plt.ylabel(\"Количество\")\n",
    "plt.title(f\"Пиков: {d2}\")\n",
    "\n",
    "plt.savefig(\"../images/len_after.png\", format=\"png\")\n",
    "\n",
    "plt.show()"
   ]
  },
  {
   "cell_type": "code",
   "execution_count": 36,
   "id": "20e231ba",
   "metadata": {},
   "outputs": [],
   "source": [
    "data1[ln1 < filter_c].to_csv(\"../data/H3F3A_DOHH2.ENCFF312QGG.hg19.filtered.bed\", index=None, header=None, sep=\"\\t\")\n",
    "data2[ln2 < filter_c].to_csv(\"../data/H3F3A_DOHH2.ENCFF669TOV.hg19.filtered.bed\", index=None, header=None, sep=\"\\t\")"
   ]
  },
  {
   "cell_type": "code",
   "execution_count": 3,
   "id": "9671bcee",
   "metadata": {},
   "outputs": [],
   "source": [
    "dataZ = pd.read_csv(f\"../data/DeepZ.bed\", header=None, sep=\"\\t\")\n",
    "inter_data = pd.read_csv(f\"../data/H3F3A_DOHH2.intersect_with_DeepZ.bed\", header=None, sep=\"\\t\")"
   ]
  },
  {
   "cell_type": "code",
   "execution_count": 4,
   "id": "2d75a6d1",
   "metadata": {},
   "outputs": [],
   "source": [
    "Z_len = dataZ[2] - dataZ[1]\n",
    "inter_len = inter_data[2] - inter_data[1]"
   ]
  },
  {
   "cell_type": "code",
   "execution_count": 5,
   "id": "25544986",
   "metadata": {},
   "outputs": [
    {
     "data": {
      "image/png": "[encoded data removed]",
      "text/plain": [
       "<Figure size 1080x360 with 2 Axes>"
      ]
     },
     "metadata": {
      "needs_background": "light"
     },
     "output_type": "display_data"
    }
   ],
   "source": [
    "plt.figure(figsize=(15, 5))\n",
    "\n",
    "plt.subplot(1, 2, 1)\n",
    "plt.hist(Z_len, color='black', bins=50)\n",
    "plt.xlabel(\"Длина\")\n",
    "plt.ylabel(\"Количество\")\n",
    "plt.title(f\"Пиков в DeepZ: {len(Z_len)}\")\n",
    "\n",
    "\n",
    "plt.subplot(1, 2, 2)\n",
    "plt.hist(inter_len, color='blue', bins=50)\n",
    "plt.xlabel(\"Длина\")\n",
    "plt.ylabel(\"Количество\")\n",
    "plt.title(f\"Пиков в intersect with DeepZ: {len(inter_len)}\")\n",
    "\n",
    "plt.savefig(\"../images/zdna.png\", format=\"png\")\n",
    "\n",
    "plt.show()"
   ]
  },
  {
   "cell_type": "code",
   "execution_count": null,
   "id": "50f22166",
   "metadata": {},
   "outputs": [],
   "source": []
  }
 ],
 "metadata": {
  "kernelspec": {
   "display_name": "Python 3",
   "language": "python",
   "name": "python3"
  },
  "language_info": {
   "codemirror_mode": {
    "name": "ipython",
    "version": 3
   },
   "file_extension": ".py",
   "mimetype": "text/x-python",
   "name": "python",
   "nbconvert_exporter": "python",
   "pygments_lexer": "ipython3",
   "version": "3.6.9"
  }
 },
 "nbformat": 4,
 "nbformat_minor": 5
}
